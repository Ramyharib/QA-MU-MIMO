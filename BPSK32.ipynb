{
 "cells": [
  {
   "cell_type": "code",
   "execution_count": 1,
   "id": "42a82851",
   "metadata": {},
   "outputs": [],
   "source": [
    "from dwave.system import EmbeddingComposite, DWaveSampler,DWaveCliqueSampler\n",
    "from dwave.system.composites import LazyFixedEmbeddingComposite\n",
    "from dwave.system.composites import FixedEmbeddingComposite\n",
    "from minorminer import find_embedding\n",
    "from dwave.embedding.chimera import find_clique_embedding\n",
    "import numpy as np\n",
    "import os\n",
    "import dimod\n",
    "import time\n",
    "import math\n",
    "import requests\n",
    "from scipy.io import savemat\n",
    "import json\n",
    "import datetime \n",
    "import scipy.io\n",
    "from minorminer import busclique\n",
    "import dwave_networkx as dnx\n",
    "from sympy import *\n",
    "import dwave.inspector\n",
    "import pickle"
   ]
  },
  {
   "cell_type": "code",
   "execution_count": 2,
   "id": "f84e84a2",
   "metadata": {},
   "outputs": [],
   "source": [
    "H=scipy.io.loadmat(\"H(32BPSK)\")\n",
    "H=H['h']\n",
    "Y=scipy.io.loadmat(\"Y(32BPSK)\")\n",
    "Y=Y['Y']\n",
    "M=scipy.io.loadmat(\"msg(32BPSK)\")\n",
    "M=M['m']\n",
    "\n"
   ]
  },
  {
   "cell_type": "code",
   "execution_count": 3,
   "id": "861a5e09",
   "metadata": {},
   "outputs": [],
   "source": [
    "H=scipy.io.loadmat(\"H(32BPSK)1\")\n",
    "H=H['h']\n",
    "Y=scipy.io.loadmat(\"Y(32BPSK)1\")\n",
    "Y=Y['Y']\n",
    "M1=scipy.io.loadmat(\"msg(32BPSK)1\")\n",
    "M1=M1['m']"
   ]
  },
  {
   "cell_type": "code",
   "execution_count": 2,
   "id": "5591bd54",
   "metadata": {},
   "outputs": [],
   "source": [
    "H=scipy.io.loadmat(\"H(32BPSK)2\")\n",
    "H=H['h']\n",
    "Y=scipy.io.loadmat(\"Y(32BPSK)2\")\n",
    "Y=Y['Y']\n",
    "M2=scipy.io.loadmat(\"msg(32BPSK)2\")\n",
    "M2=M2['m']"
   ]
  },
  {
   "cell_type": "code",
   "execution_count": 3,
   "id": "6e26542e",
   "metadata": {},
   "outputs": [
    {
     "name": "stdout",
     "output_type": "stream",
     "text": [
      "32\n"
     ]
    }
   ],
   "source": [
    "N=len(H[0])\n",
    "print(N)"
   ]
  },
  {
   "cell_type": "code",
   "execution_count": 4,
   "id": "02c05f2a",
   "metadata": {},
   "outputs": [],
   "source": [
    "HI=np.zeros((N,N))\n",
    "HQ=np.zeros((N,N))\n",
    "YI=np.zeros((N,1))\n",
    "YQ=np.zeros((N,1))"
   ]
  },
  {
   "cell_type": "code",
   "execution_count": 5,
   "id": "59ca8306",
   "metadata": {},
   "outputs": [],
   "source": [
    "def OptProblem(H,Y):\n",
    "    \n",
    "    \n",
    "    t=0    \n",
    "    h={}\n",
    "    J={}\n",
    "    for i in range(N):\n",
    "        for j in range(N):\n",
    "\n",
    "            HI[i,j]=np.real(H[i,j])\n",
    "       \n",
    "    for i in range(N):\n",
    "        for j in range(N):\n",
    "            HQ[i,j]=np.imag(H[i,j])\n",
    "       \n",
    "    for i in range(N):\n",
    "\n",
    "        YI[i]=np.real(Y[i])\n",
    "\n",
    "    for i in range(N):\n",
    "\n",
    "        YQ[i]=np.imag(Y[i])\n",
    "\n",
    "    for i in range(1,N+1):\n",
    "\n",
    "        t=-2*np.dot(HI[:,i-1],YI)-2*np.dot(HQ[:,i-1],YQ)\n",
    "        h[f'{i}']=t[0]\n",
    "\n",
    "    for i in range(1,N+1):\n",
    "        for j in range(i+1,N+1):\n",
    "            t=2*np.dot(HI[:,i-1],HI[:,j-1])+2*np.dot(HQ[:,i-1],HQ[:,j-1])\n",
    "            J[(f'{i}',f'{j}')]=t\n",
    "    \n",
    "    \n",
    "    \n",
    "    return h,J"
   ]
  },
  {
   "cell_type": "code",
   "execution_count": 7,
   "id": "c852f354",
   "metadata": {},
   "outputs": [
    {
     "name": "stdout",
     "output_type": "stream",
     "text": [
      "80000.0\n"
     ]
    }
   ],
   "source": [
    "print(len(H)/32)"
   ]
  },
  {
   "cell_type": "code",
   "execution_count": 6,
   "id": "c71664d8",
   "metadata": {},
   "outputs": [],
   "source": [
    "#h,j=OptProblem(H[32*t[2]:32*t[2]+32],Y[32*t[2]:32*t[2]+32])\n",
    "anneal_time = 15\n",
    "pause_duration = 1      # Must be greater than 0\n",
    "pause_start = 0.3   \n",
    "schedule=[[0.0,0.0],[pause_start*anneal_time,pause_start],[pause_start*anneal_time+pause_duration, pause_start],[anneal_time+pause_duration, 1.0]]"
   ]
  },
  {
   "cell_type": "code",
   "execution_count": 33,
   "id": "d9230ac8",
   "metadata": {},
   "outputs": [],
   "source": [
    "test=[]\n",
    "x1=51\n",
    "x=0"
   ]
  },
  {
   "cell_type": "code",
   "execution_count": 34,
   "id": "452b77c0",
   "metadata": {},
   "outputs": [],
   "source": [
    "dwave_sampler=DWaveCliqueSampler(token='DEV-17e676e9887fab8e59f58d606b274efb7bd330b2', endpoint='https://cloud.dwavesys.com/sapi/', solver={'topology__type': 'pegasus'})\n",
    "for i in range(x1,52):\n",
    "    x1=i\n",
    "    \n",
    "    avg=0\n",
    "    for k in range(x,100):\n",
    "        x=k\n",
    "        \n",
    "        #pause_start =i/10\n",
    "        anneal_time=15\n",
    "        #pause_duration =  i/10\n",
    "        \n",
    "        schedule=[[0.0,0.0],[pause_start*anneal_time,pause_start],[pause_start*anneal_time+pause_duration, pause_start],[anneal_time+pause_duration, 1.0]]\n",
    "        sampleset = dwave_sampler.sample_ising(h,j,anneal_schedule=schedule,num_reads = 1000,chain_strength=52)\n",
    "        avg+=sampleset.first.num_occurrences\n",
    "    test.append(avg//100)\n",
    "    avg=0\n",
    "    x=0"
   ]
  },
  {
   "cell_type": "code",
   "execution_count": 35,
   "id": "e557c15f",
   "metadata": {},
   "outputs": [
    {
     "name": "stdout",
     "output_type": "stream",
     "text": [
      "[324]\n"
     ]
    }
   ],
   "source": [
    "print(test)\n",
    "x1=16\n",
    "#h,j=OptProblem(H[20000:20000+32],Y[20000:20000+32])"
   ]
  },
  {
   "cell_type": "code",
   "execution_count": 32,
   "id": "e1c9d1cf",
   "metadata": {},
   "outputs": [
    {
     "name": "stdout",
     "output_type": "stream",
     "text": [
      "    1 10 11 12 13 14 15 16 17 18 19  2 20 21 22 ...  9       energy num_oc. ...\n",
      "0  +1 +1 -1 +1 +1 -1 +1 -1 -1 +1 +1 +1 +1 +1 -1 ... +1 -2245.053132     912 ...\n",
      "1  +1 +1 -1 +1 +1 -1 +1 -1 -1 +1 +1 +1 +1 +1 -1 ... +1 -2245.053132      49 ...\n",
      "2  +1 +1 -1 +1 +1 -1 +1 -1 -1 +1 +1 +1 +1 +1 -1 ... +1 -2245.053132       1 ...\n",
      "4  +1 +1 -1 +1 +1 -1 +1 -1 -1 +1 +1 +1 +1 +1 -1 ... +1 -2245.053132       1 ...\n",
      "7  +1 +1 -1 +1 +1 -1 +1 -1 -1 +1 +1 +1 +1 +1 -1 ... +1 -2245.053132       1 ...\n",
      "6  +1 +1 -1 +1 +1 -1 +1 -1 -1 +1 +1 +1 +1 +1 -1 ... +1  -2169.46707       1 ...\n",
      "3  +1 +1 -1 +1 +1 -1 +1 -1 -1 +1 +1 -1 +1 +1 -1 ... +1 -2140.820798      25 ...\n",
      "5  +1 +1 -1 +1 +1 -1 +1 -1 -1 +1 +1 -1 +1 +1 -1 ... +1 -2140.820798       2 ...\n",
      "9  +1 +1 -1 +1 +1 -1 +1 -1 -1 +1 +1 +1 +1 +1 -1 ... +1 -2137.197276       1 ...\n",
      "10 +1 +1 -1 +1 +1 -1 +1 -1 -1 +1 +1 +1 +1 +1 -1 ... +1 -2123.354724       1 ...\n",
      "11 +1 +1 -1 +1 +1 -1 +1 -1 -1 +1 +1 +1 +1 +1 -1 ... +1 -2123.354724       2 ...\n",
      "12 +1 +1 -1 +1 +1 -1 +1 -1 -1 +1 +1 +1 +1 +1 -1 ... +1 -2117.400821       1 ...\n",
      "8  +1 +1 -1 +1 +1 -1 +1 -1 -1 +1 +1 +1 +1 +1 -1 ... +1 -2115.789803       1 ...\n",
      "13 +1 +1 -1 +1 +1 -1 +1 -1 -1 +1 +1 +1 +1 +1 -1 ... +1 -2115.789803       1 ...\n",
      "14 -1 +1 -1 +1 +1 -1 +1 -1 -1 +1 +1 +1 +1 +1 -1 ... +1 -2106.538085       1 ...\n",
      "['SPIN', 15 rows, 1000 samples, 32 variables]\n"
     ]
    }
   ],
   "source": [
    "h,j=OptProblem(H[32*t[3]:32*t[3]+32],Y[32*t[3]:32*t[3]+32])\n",
    "dwave_sampler=DWaveCliqueSampler(token='DEV-857b7f712b60ce91f5ebbe9790b75fcb8ad22854', endpoint='https://cloud.dwavesys.com/sapi/', solver={'topology__type': 'pegasus'})\n",
    "sampleset = dwave_sampler.sample_ising(h,j,anneal_schedule=schedule,num_reads = 1000,chain_strength=51)\n",
    "print(sampleset)"
   ]
  },
  {
   "cell_type": "code",
   "execution_count": 20,
   "id": "025bd5b9",
   "metadata": {},
   "outputs": [
    {
     "name": "stdout",
     "output_type": "stream",
     "text": [
      "{'0': -7.93446095565484, '1': -18.265102270156873} {('0', '1'): -2.4501833026160544}\n"
     ]
    }
   ],
   "source": [
    "with open('2BPSK1.pickle', 'rb') as handle:\n",
    "    h = pickle.load(handle)\n",
    "with open('2BPSK2.pickle', 'rb') as handle:\n",
    "    j = pickle.load(handle)\n",
    "print(h,j)"
   ]
  },
  {
   "cell_type": "code",
   "execution_count": 18,
   "id": "5502ba60",
   "metadata": {},
   "outputs": [],
   "source": [
    "count1=0\n",
    "count2=32*len(s2)\n",
    "#s2=[]"
   ]
  },
  {
   "cell_type": "code",
   "execution_count": 7,
   "id": "7fcff0bb",
   "metadata": {},
   "outputs": [
    {
     "name": "stdout",
     "output_type": "stream",
     "text": [
      "[0, 20000, 40000, 60000, 80000]\n"
     ]
    }
   ],
   "source": [
    "t=[0]\n",
    "sm=0\n",
    "for i in range(4):\n",
    "    sm+=20000\n",
    "    t.append(sm)\n",
    "    \n",
    "    \n",
    "print(t)"
   ]
  },
  {
   "cell_type": "code",
   "execution_count": 15,
   "id": "84158bb0",
   "metadata": {},
   "outputs": [],
   "source": []
  },
  {
   "cell_type": "code",
   "execution_count": 13,
   "id": "6df01995",
   "metadata": {},
   "outputs": [],
   "source": [
    "dwave_sampler=DWaveCliqueSampler(token='DEV-8fce401a913a0806637bd23cb5acc7b0f43d4a12', endpoint='https://cloud.dwavesys.com/sapi/', solver={'topology__type': 'pegasus'})\n",
    "h,j=OptProblem(H[0:32],Y[0:32])\n",
    "sampleset = dwave_sampler.sample_ising(h,j,anneal_schedule=schedule,num_reads = 400,chain_strength=62)"
   ]
  },
  {
   "cell_type": "code",
   "execution_count": null,
   "id": "639579a4",
   "metadata": {},
   "outputs": [],
   "source": [
    "#c=0\n",
    "#dwave_sampler=DWaveCliqueSampler(token='DEV-be236b7a9a68a3c7d54b5f5338dcac3019a4005f', endpoint='https://cloud.dwavesys.com/sapi/', solver={'topology__type': 'pegasus'})\n",
    "for l in range(count1,2):\n",
    "    count1=l\n",
    "    for i in range(count2,32*t[count1+1]):\n",
    "        \n",
    "        if i%32!=0:\n",
    "            continue\n",
    "        count2=i\n",
    "        h,j=OptProblem(H[i:i+32],Y[i:i+32])\n",
    "\n",
    "        #Q=Qubo(H[i:i+2],Y[i:i+2])\n",
    "        sampleset = dwave_sampler.sample_ising(h,j,anneal_schedule=schedule,num_reads = 400,chain_strength=51)\n",
    "        #sampleset=dimod.ExactSolver().sample_ising(h,j)\n",
    "        tmp=sampleset.first.sample\n",
    "        \n",
    "        for k in range(1,len(tmp)+1):\n",
    "            \n",
    "            if tmp[f'{k}']==-1:\n",
    "                tmp[f'{k}']=0\n",
    "                    \n",
    "        s2.append(tmp)\n",
    "        #print(sampleset.first.num_occurrences)\n",
    "        c+=1\n",
    "        if c==720:\n",
    "            dwave_sampler=DWaveCliqueSampler(token=tok[0], endpoint='https://cloud.dwavesys.com/sapi/', solver={'topology__type': 'pegasus'})\n",
    "            del tok[0]\n",
    "            print(len(tok))\n",
    "            c=0\n",
    "            \n",
    "        if i%32000==0:\n",
    "            with open('s(32BPSK)2.pickle', 'wb') as handle:\n",
    "                \n",
    "                pickle.dump(s2, handle, protocol=pickle.HIGHEST_PROTOCOL)\n",
    "            print(i)\n",
    "    count2=32*t[count1+1] \n",
    "    \n",
    "    #print(sampleset.first.sample)"
   ]
  },
  {
   "cell_type": "code",
   "execution_count": 17,
   "id": "4ca25b01",
   "metadata": {},
   "outputs": [
    {
     "name": "stdout",
     "output_type": "stream",
     "text": [
      "1\n"
     ]
    }
   ],
   "source": [
    "#s=s[0:20000]\n",
    "print(len(s2))\n",
    "#print(len(tok))\n",
    "#print(count1)\n",
    "#s=[]"
   ]
  },
  {
   "cell_type": "code",
   "execution_count": 9,
   "id": "6e501a82",
   "metadata": {},
   "outputs": [
    {
     "name": "stdout",
     "output_type": "stream",
     "text": [
      "458826\n"
     ]
    }
   ],
   "source": [
    "import os\n",
    "size=os.path.getsize(\"s2(32BPSK).pickle\")\n",
    "print(size)"
   ]
  },
  {
   "cell_type": "code",
   "execution_count": 15,
   "id": "5e5fb964",
   "metadata": {},
   "outputs": [],
   "source": [
    "\n",
    "with open('s(32BPSK)2.pickle', 'wb') as handle:\n",
    "    pickle.dump(s, handle, protocol=pickle.HIGHEST_PROTOCOL)"
   ]
  },
  {
   "cell_type": "code",
   "execution_count": 12,
   "id": "4ae56603",
   "metadata": {},
   "outputs": [
    {
     "ename": "EOFError",
     "evalue": "Ran out of input",
     "output_type": "error",
     "traceback": [
      "\u001b[1;31m---------------------------------------------------------------------------\u001b[0m",
      "\u001b[1;31mEOFError\u001b[0m                                  Traceback (most recent call last)",
      "\u001b[1;32m<ipython-input-12-d49fca46f19e>\u001b[0m in \u001b[0;36m<module>\u001b[1;34m\u001b[0m\n\u001b[0;32m      1\u001b[0m \u001b[1;32mwith\u001b[0m \u001b[0mopen\u001b[0m\u001b[1;33m(\u001b[0m\u001b[1;34m's2(32BPSK).pickle'\u001b[0m\u001b[1;33m,\u001b[0m \u001b[1;34m'rb'\u001b[0m\u001b[1;33m)\u001b[0m \u001b[1;32mas\u001b[0m \u001b[0mhandle\u001b[0m\u001b[1;33m:\u001b[0m\u001b[1;33m\u001b[0m\u001b[1;33m\u001b[0m\u001b[0m\n\u001b[1;32m----> 2\u001b[1;33m     \u001b[0ms2\u001b[0m \u001b[1;33m=\u001b[0m \u001b[0mpickle\u001b[0m\u001b[1;33m.\u001b[0m\u001b[0mload\u001b[0m\u001b[1;33m(\u001b[0m\u001b[0mhandle\u001b[0m\u001b[1;33m)\u001b[0m\u001b[1;33m\u001b[0m\u001b[1;33m\u001b[0m\u001b[0m\n\u001b[0m",
      "\u001b[1;31mEOFError\u001b[0m: Ran out of input"
     ]
    }
   ],
   "source": [
    "with open('s(32BPSK)2.pickle', 'rb') as handle:\n",
    "    s2 = pickle.load(handle)"
   ]
  },
  {
   "cell_type": "code",
   "execution_count": 11,
   "id": "8176288c",
   "metadata": {},
   "outputs": [],
   "source": []
  },
  {
   "cell_type": "code",
   "execution_count": 57,
   "id": "c3db5af0",
   "metadata": {},
   "outputs": [],
   "source": [
    "for i in range(len(s)):\n",
    "    if s[i]['0']==-1:\n",
    "        s[i]['0']=0\n",
    "    if s[i]['1']==-1:\n",
    "        s[i]['1']=0"
   ]
  },
  {
   "cell_type": "code",
   "execution_count": 25,
   "id": "b1b497d4",
   "metadata": {},
   "outputs": [
    {
     "name": "stdout",
     "output_type": "stream",
     "text": [
      "[0, 20000, 40000, 60000, 80000]\n"
     ]
    }
   ],
   "source": [
    "print(t)"
   ]
  },
  {
   "cell_type": "code",
   "execution_count": 15,
   "id": "21f11804",
   "metadata": {},
   "outputs": [
    {
     "name": "stdout",
     "output_type": "stream",
     "text": [
      "66026\n",
      "241\n",
      "0\n",
      "0\n",
      "[0.103165625, 0.0003765625, 0.0, 0.0]\n"
     ]
    }
   ],
   "source": [
    "e=0\n",
    "er=[]\n",
    "for i in range(80000):\n",
    "    for j in range(1,33):\n",
    "        if s[i][f'{j}']!=M1[j-1][i]:\n",
    "            e+=1\n",
    "   \n",
    "        \n",
    "    if i+1 in t:\n",
    "        er.append(e/(32*20000))\n",
    "        print(e)\n",
    "        e=0\n",
    "#er.append(e/(2*c[len(c)-1]))\n",
    "print(er)"
   ]
  },
  {
   "cell_type": "code",
   "execution_count": 24,
   "id": "fbed4fa2",
   "metadata": {},
   "outputs": [
    {
     "name": "stdout",
     "output_type": "stream",
     "text": [
      "4331\n"
     ]
    }
   ],
   "source": [
    "print(er)"
   ]
  },
  {
   "cell_type": "code",
   "execution_count": 61,
   "id": "89e8940a",
   "metadata": {},
   "outputs": [],
   "source": [
    "ber=[]\n",
    "for i in range(len(BER)):\n",
    "    ber.append(BER[i][0])"
   ]
  },
  {
   "cell_type": "code",
   "execution_count": 62,
   "id": "056ade7e",
   "metadata": {},
   "outputs": [
    {
     "data": {
      "image/png": "[encoded data removed]",
      "text/plain": [
       "<Figure size 432x288 with 1 Axes>"
      ]
     },
     "metadata": {
      "needs_background": "light"
     },
     "output_type": "display_data"
    }
   ],
   "source": [
    "import matplotlib.pyplot as plt\n",
    "SNR=[2,5,8,11,14,17,20]\n",
    "plt.semilogy(SNR,er , label='Quantum Annealing')\n",
    "plt.semilogy(SNR, ber,  label='Matlab')\n",
    "plt.grid(True)\n",
    "plt.legend()\n",
    "plt.show()"
   ]
  },
  {
   "cell_type": "code",
   "execution_count": null,
   "id": "a443ae8d",
   "metadata": {},
   "outputs": [],
   "source": []
  }
 ],
 "metadata": {
  "kernelspec": {
   "display_name": "Python 3 (ipykernel)",
   "language": "python",
   "name": "python3"
  },
  "language_info": {
   "codemirror_mode": {
    "name": "ipython",
    "version": 3
   },
   "file_extension": ".py",
   "mimetype": "text/x-python",
   "name": "python",
   "nbconvert_exporter": "python",
   "pygments_lexer": "ipython3",
   "version": "3.9.12"
  }
 },
 "nbformat": 4,
 "nbformat_minor": 5
}
